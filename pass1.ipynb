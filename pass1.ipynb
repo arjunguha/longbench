{
 "cells": [
  {
   "cell_type": "code",
   "execution_count": 1,
   "metadata": {},
   "outputs": [],
   "source": [
    "import pandas as pd\n",
    "from pathlib import Path\n",
    "import matplotlib.pyplot as plt"
   ]
  },
  {
   "cell_type": "code",
   "execution_count": 5,
   "metadata": {},
   "outputs": [
    {
     "data": {
      "text/html": [
       "<div>\n",
       "<style scoped>\n",
       "    .dataframe tbody tr th:only-of-type {\n",
       "        vertical-align: middle;\n",
       "    }\n",
       "\n",
       "    .dataframe tbody tr th {\n",
       "        vertical-align: top;\n",
       "    }\n",
       "\n",
       "    .dataframe thead th {\n",
       "        text-align: right;\n",
       "    }\n",
       "</style>\n",
       "<table border=\"1\" class=\"dataframe\">\n",
       "  <thead>\n",
       "    <tr style=\"text-align: right;\">\n",
       "      <th></th>\n",
       "      <th>task_id</th>\n",
       "      <th>approx_token_count</th>\n",
       "    </tr>\n",
       "  </thead>\n",
       "  <tbody>\n",
       "    <tr>\n",
       "      <th>0</th>\n",
       "      <td>LongBench_HumanEval/100_0_first half</td>\n",
       "      <td>0</td>\n",
       "    </tr>\n",
       "    <tr>\n",
       "      <th>1</th>\n",
       "      <td>LongBench_HumanEval/100_0_second half</td>\n",
       "      <td>0</td>\n",
       "    </tr>\n",
       "    <tr>\n",
       "      <th>2</th>\n",
       "      <td>LongBench_HumanEval/13_0_first half</td>\n",
       "      <td>0</td>\n",
       "    </tr>\n",
       "    <tr>\n",
       "      <th>3</th>\n",
       "      <td>LongBench_HumanEval/13_0_second half</td>\n",
       "      <td>0</td>\n",
       "    </tr>\n",
       "    <tr>\n",
       "      <th>4</th>\n",
       "      <td>LongBench_HumanEval/152_0_first half</td>\n",
       "      <td>0</td>\n",
       "    </tr>\n",
       "  </tbody>\n",
       "</table>\n",
       "</div>"
      ],
      "text/plain": [
       "                                 task_id  approx_token_count\n",
       "0   LongBench_HumanEval/100_0_first half                   0\n",
       "1  LongBench_HumanEval/100_0_second half                   0\n",
       "2    LongBench_HumanEval/13_0_first half                   0\n",
       "3   LongBench_HumanEval/13_0_second half                   0\n",
       "4   LongBench_HumanEval/152_0_first half                   0"
      ]
     },
     "execution_count": 5,
     "metadata": {},
     "output_type": "execute_result"
    }
   ],
   "source": [
    "benchmark_df = pd.read_json(\"benchmark.jsonl\", lines=True)\n",
    "benchmark_df = benchmark_df[[\"task_id\", \"approx_token_count\"]]\n",
    "benchmark_df.head()"
   ]
  },
  {
   "cell_type": "code",
   "execution_count": 6,
   "metadata": {},
   "outputs": [
    {
     "data": {
      "text/html": [
       "<div>\n",
       "<style scoped>\n",
       "    .dataframe tbody tr th:only-of-type {\n",
       "        vertical-align: middle;\n",
       "    }\n",
       "\n",
       "    .dataframe tbody tr th {\n",
       "        vertical-align: top;\n",
       "    }\n",
       "\n",
       "    .dataframe thead th {\n",
       "        text-align: right;\n",
       "    }\n",
       "</style>\n",
       "<table border=\"1\" class=\"dataframe\">\n",
       "  <thead>\n",
       "    <tr style=\"text-align: right;\">\n",
       "      <th></th>\n",
       "      <th>task_id</th>\n",
       "      <th>executions</th>\n",
       "    </tr>\n",
       "  </thead>\n",
       "  <tbody>\n",
       "    <tr>\n",
       "      <th>0</th>\n",
       "      <td>LongBench_HumanEval/100_0_first half</td>\n",
       "      <td>[{'program': '\n",
       "def make_a_pile(n):\n",
       "    \"\"\"\n",
       "   ...</td>\n",
       "    </tr>\n",
       "    <tr>\n",
       "      <th>1</th>\n",
       "      <td>LongBench_HumanEval/100_0_second half</td>\n",
       "      <td>[{'program': '\n",
       "def make_a_pile(n):\n",
       "    \"\"\"\n",
       "   ...</td>\n",
       "    </tr>\n",
       "    <tr>\n",
       "      <th>2</th>\n",
       "      <td>LongBench_HumanEval/13_0_first half</td>\n",
       "      <td>[{'program': '\n",
       "\n",
       "def greatest_common_divisor(a:...</td>\n",
       "    </tr>\n",
       "    <tr>\n",
       "      <th>3</th>\n",
       "      <td>LongBench_HumanEval/13_0_second half</td>\n",
       "      <td>[{'program': '\n",
       "\n",
       "def greatest_common_divisor(a:...</td>\n",
       "    </tr>\n",
       "    <tr>\n",
       "      <th>4</th>\n",
       "      <td>LongBench_HumanEval/152_0_first half</td>\n",
       "      <td>[{'program': '\n",
       "def compare(game,guess):\n",
       "    \"\"...</td>\n",
       "    </tr>\n",
       "  </tbody>\n",
       "</table>\n",
       "</div>"
      ],
      "text/plain": [
       "                                 task_id   \n",
       "0   LongBench_HumanEval/100_0_first half  \\\n",
       "1  LongBench_HumanEval/100_0_second half   \n",
       "2    LongBench_HumanEval/13_0_first half   \n",
       "3   LongBench_HumanEval/13_0_second half   \n",
       "4   LongBench_HumanEval/152_0_first half   \n",
       "\n",
       "                                          executions  \n",
       "0  [{'program': '\n",
       "def make_a_pile(n):\n",
       "    \"\"\"\n",
       "   ...  \n",
       "1  [{'program': '\n",
       "def make_a_pile(n):\n",
       "    \"\"\"\n",
       "   ...  \n",
       "2  [{'program': '\n",
       "\n",
       "def greatest_common_divisor(a:...  \n",
       "3  [{'program': '\n",
       "\n",
       "def greatest_common_divisor(a:...  \n",
       "4  [{'program': '\n",
       "def compare(game,guess):\n",
       "    \"\"...  "
      ]
     },
     "execution_count": 6,
     "metadata": {},
     "output_type": "execute_result"
    }
   ],
   "source": [
    "executions_df = pd.read_json(\"executions_starcoderbase15b.jsonl\", lines=True)\n",
    "executions_df.head()"
   ]
  },
  {
   "cell_type": "code",
   "execution_count": 28,
   "metadata": {},
   "outputs": [
    {
     "data": {
      "text/html": [
       "<div>\n",
       "<style scoped>\n",
       "    .dataframe tbody tr th:only-of-type {\n",
       "        vertical-align: middle;\n",
       "    }\n",
       "\n",
       "    .dataframe tbody tr th {\n",
       "        vertical-align: top;\n",
       "    }\n",
       "\n",
       "    .dataframe thead th {\n",
       "        text-align: right;\n",
       "    }\n",
       "</style>\n",
       "<table border=\"1\" class=\"dataframe\">\n",
       "  <thead>\n",
       "    <tr style=\"text-align: right;\">\n",
       "      <th></th>\n",
       "      <th>task_id</th>\n",
       "      <th>approx_token_count</th>\n",
       "      <th>mutant_catch_rate</th>\n",
       "      <th>test_suite_success_rate</th>\n",
       "    </tr>\n",
       "  </thead>\n",
       "  <tbody>\n",
       "    <tr>\n",
       "      <th>0</th>\n",
       "      <td>LongBench_HumanEval/100_0_first half</td>\n",
       "      <td>0</td>\n",
       "      <td>0.0000</td>\n",
       "      <td>0.00</td>\n",
       "    </tr>\n",
       "    <tr>\n",
       "      <th>1</th>\n",
       "      <td>LongBench_HumanEval/100_0_second half</td>\n",
       "      <td>0</td>\n",
       "      <td>0.0000</td>\n",
       "      <td>0.00</td>\n",
       "    </tr>\n",
       "    <tr>\n",
       "      <th>2</th>\n",
       "      <td>LongBench_HumanEval/13_0_first half</td>\n",
       "      <td>0</td>\n",
       "      <td>0.1625</td>\n",
       "      <td>0.20</td>\n",
       "    </tr>\n",
       "    <tr>\n",
       "      <th>3</th>\n",
       "      <td>LongBench_HumanEval/13_0_second half</td>\n",
       "      <td>0</td>\n",
       "      <td>0.1500</td>\n",
       "      <td>0.15</td>\n",
       "    </tr>\n",
       "    <tr>\n",
       "      <th>4</th>\n",
       "      <td>LongBench_HumanEval/152_0_first half</td>\n",
       "      <td>0</td>\n",
       "      <td>0.0000</td>\n",
       "      <td>0.00</td>\n",
       "    </tr>\n",
       "  </tbody>\n",
       "</table>\n",
       "</div>"
      ],
      "text/plain": [
       "                                 task_id  approx_token_count   \n",
       "0   LongBench_HumanEval/100_0_first half                   0  \\\n",
       "1  LongBench_HumanEval/100_0_second half                   0   \n",
       "2    LongBench_HumanEval/13_0_first half                   0   \n",
       "3   LongBench_HumanEval/13_0_second half                   0   \n",
       "4   LongBench_HumanEval/152_0_first half                   0   \n",
       "\n",
       "   mutant_catch_rate  test_suite_success_rate  \n",
       "0             0.0000                     0.00  \n",
       "1             0.0000                     0.00  \n",
       "2             0.1625                     0.20  \n",
       "3             0.1500                     0.15  \n",
       "4             0.0000                     0.00  "
      ]
     },
     "execution_count": 28,
     "metadata": {},
     "output_type": "execute_result"
    }
   ],
   "source": [
    "def mutant_catch_rate(execution):\n",
    "    if execution[\"exit_code\"] != 0:\n",
    "        return 0\n",
    "    mutants = execution[\"mutants\"]\n",
    "    caught_mutants = sum(1 for mutant in mutants if mutant[\"exit_code\"] != 0)\n",
    "    return caught_mutants / len(mutants)\n",
    "\n",
    "def mean_mutant_catch_rate(executions):\n",
    "    n = len(executions)\n",
    "    if n == 0:\n",
    "        return 0\n",
    "    return sum(mutant_catch_rate(execution) for execution in executions) / n\n",
    "\n",
    "\n",
    "def test_suite_success_rate(executions):\n",
    "    n = len(executions)\n",
    "    if n == 0:\n",
    "        return 0\n",
    "    return sum(1 for execution in executions if execution[\"exit_code\"] == 0) / n\n",
    "\n",
    "combined_df = pd.merge(benchmark_df, executions_df, on=\"task_id\")\n",
    "combined_df[\"mutant_catch_rate\"] = executions_df[\"executions\"].apply(mean_mutant_catch_rate)\n",
    "combined_df[\"test_suite_success_rate\"] = executions_df[\"executions\"].apply(test_suite_success_rate)\n",
    "combined_df = combined_df[[\"task_id\", \"approx_token_count\", \"mutant_catch_rate\", \"test_suite_success_rate\"]]\n",
    "combined_df.head()"
   ]
  },
  {
   "cell_type": "code",
   "execution_count": 22,
   "metadata": {},
   "outputs": [
    {
     "data": {
      "text/plain": [
       "<matplotlib.collections.PathCollection at 0x7f42789c1480>"
      ]
     },
     "execution_count": 22,
     "metadata": {},
     "output_type": "execute_result"
    },
    {
     "data": {
      "image/png": "[encoded data removed]",
      "text/plain": [
       "<Figure size 640x480 with 1 Axes>"
      ]
     },
     "metadata": {},
     "output_type": "display_data"
    }
   ],
   "source": [
    "# Plot size on X and pass1 on Y but as a CDF\n",
    "plt.scatter(combined_df[\"approx_token_count\"], combined_df[\"mutant_catch_rate\"], marker = \"x\")"
   ]
  },
  {
   "cell_type": "code",
   "execution_count": 29,
   "metadata": {},
   "outputs": [
    {
     "data": {
      "text/plain": [
       "count    20.000000\n",
       "mean      0.118438\n",
       "std       0.140321\n",
       "min       0.000000\n",
       "25%       0.000000\n",
       "50%       0.018750\n",
       "75%       0.241667\n",
       "max       0.375000\n",
       "Name: mutant_catch_rate, dtype: float64"
      ]
     },
     "execution_count": 29,
     "metadata": {},
     "output_type": "execute_result"
    }
   ],
   "source": [
    "combined_df[\"mutant_catch_rate\"].describe()"
   ]
  },
  {
   "cell_type": "code",
   "execution_count": 30,
   "metadata": {},
   "outputs": [
    {
     "data": {
      "text/plain": [
       "count    20.000000\n",
       "mean      0.170000\n",
       "std       0.214844\n",
       "min       0.000000\n",
       "25%       0.000000\n",
       "50%       0.025000\n",
       "75%       0.362500\n",
       "max       0.600000\n",
       "Name: test_suite_success_rate, dtype: float64"
      ]
     },
     "execution_count": 30,
     "metadata": {},
     "output_type": "execute_result"
    }
   ],
   "source": [
    "combined_df[\"test_suite_success_rate\"].describe()"
   ]
  }
 ],
 "metadata": {
  "kernelspec": {
   "display_name": "venv",
   "language": "python",
   "name": "python3"
  },
  "language_info": {
   "codemirror_mode": {
    "name": "ipython",
    "version": 3
   },
   "file_extension": ".py",
   "mimetype": "text/x-python",
   "name": "python",
   "nbconvert_exporter": "python",
   "pygments_lexer": "ipython3",
   "version": "3.10.6"
  }
 },
 "nbformat": 4,
 "nbformat_minor": 2
}
