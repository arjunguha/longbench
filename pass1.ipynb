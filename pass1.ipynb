{
 "cells": [
  {
   "cell_type": "code",
   "execution_count": 1,
   "metadata": {},
   "outputs": [],
   "source": [
    "import pandas as pd\n",
    "from pathlib import Path\n",
    "import matplotlib.pyplot as plt"
   ]
  },
  {
   "cell_type": "code",
   "execution_count": 31,
   "metadata": {},
   "outputs": [
    {
     "data": {
      "text/html": [
       "<div>\n",
       "<style scoped>\n",
       "    .dataframe tbody tr th:only-of-type {\n",
       "        vertical-align: middle;\n",
       "    }\n",
       "\n",
       "    .dataframe tbody tr th {\n",
       "        vertical-align: top;\n",
       "    }\n",
       "\n",
       "    .dataframe thead th {\n",
       "        text-align: right;\n",
       "    }\n",
       "</style>\n",
       "<table border=\"1\" class=\"dataframe\">\n",
       "  <thead>\n",
       "    <tr style=\"text-align: right;\">\n",
       "      <th></th>\n",
       "      <th>task_id</th>\n",
       "      <th>approx_token_count</th>\n",
       "    </tr>\n",
       "  </thead>\n",
       "  <tbody>\n",
       "    <tr>\n",
       "      <th>0</th>\n",
       "      <td>LongBench_HumanEval/100_0_first half</td>\n",
       "      <td>0</td>\n",
       "    </tr>\n",
       "    <tr>\n",
       "      <th>1</th>\n",
       "      <td>LongBench_HumanEval/100_0_second half</td>\n",
       "      <td>0</td>\n",
       "    </tr>\n",
       "    <tr>\n",
       "      <th>2</th>\n",
       "      <td>LongBench_HumanEval/13_0_first half</td>\n",
       "      <td>0</td>\n",
       "    </tr>\n",
       "    <tr>\n",
       "      <th>3</th>\n",
       "      <td>LongBench_HumanEval/13_0_second half</td>\n",
       "      <td>0</td>\n",
       "    </tr>\n",
       "    <tr>\n",
       "      <th>4</th>\n",
       "      <td>LongBench_HumanEval/152_0_first half</td>\n",
       "      <td>0</td>\n",
       "    </tr>\n",
       "  </tbody>\n",
       "</table>\n",
       "</div>"
      ],
      "text/plain": [
       "                                 task_id  approx_token_count\n",
       "0   LongBench_HumanEval/100_0_first half                   0\n",
       "1  LongBench_HumanEval/100_0_second half                   0\n",
       "2    LongBench_HumanEval/13_0_first half                   0\n",
       "3   LongBench_HumanEval/13_0_second half                   0\n",
       "4   LongBench_HumanEval/152_0_first half                   0"
      ]
     },
     "execution_count": 31,
     "metadata": {},
     "output_type": "execute_result"
    }
   ],
   "source": [
    "benchmark_df = pd.read_json(\"benchmark.jsonl\", lines=True)\n",
    "benchmark_df = benchmark_df[[\"task_id\", \"approx_token_count\"]]\n",
    "benchmark_df.head()"
   ]
  },
  {
   "cell_type": "code",
   "execution_count": 32,
   "metadata": {},
   "outputs": [
    {
     "data": {
      "text/html": [
       "<div>\n",
       "<style scoped>\n",
       "    .dataframe tbody tr th:only-of-type {\n",
       "        vertical-align: middle;\n",
       "    }\n",
       "\n",
       "    .dataframe tbody tr th {\n",
       "        vertical-align: top;\n",
       "    }\n",
       "\n",
       "    .dataframe thead th {\n",
       "        text-align: right;\n",
       "    }\n",
       "</style>\n",
       "<table border=\"1\" class=\"dataframe\">\n",
       "  <thead>\n",
       "    <tr style=\"text-align: right;\">\n",
       "      <th></th>\n",
       "      <th>task_id</th>\n",
       "      <th>executions</th>\n",
       "    </tr>\n",
       "  </thead>\n",
       "  <tbody>\n",
       "    <tr>\n",
       "      <th>0</th>\n",
       "      <td>LongBench_HumanEval/100_0_first half</td>\n",
       "      <td>[{'program': '\n",
       "def make_a_pile(n):\n",
       "    \"\"\"\n",
       "   ...</td>\n",
       "    </tr>\n",
       "    <tr>\n",
       "      <th>1</th>\n",
       "      <td>LongBench_HumanEval/100_0_second half</td>\n",
       "      <td>[{'program': '\n",
       "def make_a_pile(n):\n",
       "    \"\"\"\n",
       "   ...</td>\n",
       "    </tr>\n",
       "    <tr>\n",
       "      <th>2</th>\n",
       "      <td>LongBench_HumanEval/13_0_first half</td>\n",
       "      <td>[{'program': '\n",
       "\n",
       "def greatest_common_divisor(a:...</td>\n",
       "    </tr>\n",
       "    <tr>\n",
       "      <th>3</th>\n",
       "      <td>LongBench_HumanEval/13_0_second half</td>\n",
       "      <td>[{'program': '\n",
       "\n",
       "def greatest_common_divisor(a:...</td>\n",
       "    </tr>\n",
       "    <tr>\n",
       "      <th>4</th>\n",
       "      <td>LongBench_HumanEval/152_0_first half</td>\n",
       "      <td>[{'program': '\n",
       "def compare(game,guess):\n",
       "    \"\"...</td>\n",
       "    </tr>\n",
       "  </tbody>\n",
       "</table>\n",
       "</div>"
      ],
      "text/plain": [
       "                                 task_id   \n",
       "0   LongBench_HumanEval/100_0_first half  \\\n",
       "1  LongBench_HumanEval/100_0_second half   \n",
       "2    LongBench_HumanEval/13_0_first half   \n",
       "3   LongBench_HumanEval/13_0_second half   \n",
       "4   LongBench_HumanEval/152_0_first half   \n",
       "\n",
       "                                          executions  \n",
       "0  [{'program': '\n",
       "def make_a_pile(n):\n",
       "    \"\"\"\n",
       "   ...  \n",
       "1  [{'program': '\n",
       "def make_a_pile(n):\n",
       "    \"\"\"\n",
       "   ...  \n",
       "2  [{'program': '\n",
       "\n",
       "def greatest_common_divisor(a:...  \n",
       "3  [{'program': '\n",
       "\n",
       "def greatest_common_divisor(a:...  \n",
       "4  [{'program': '\n",
       "def compare(game,guess):\n",
       "    \"\"...  "
      ]
     },
     "execution_count": 32,
     "metadata": {},
     "output_type": "execute_result"
    }
   ],
   "source": [
    "executions_df = pd.read_json(\"executions_starcoderbase15b.jsonl\", lines=True)\n",
    "executions_df.head()"
   ]
  },
  {
   "cell_type": "code",
   "execution_count": 33,
   "metadata": {},
   "outputs": [
    {
     "data": {
      "text/html": [
       "<div>\n",
       "<style scoped>\n",
       "    .dataframe tbody tr th:only-of-type {\n",
       "        vertical-align: middle;\n",
       "    }\n",
       "\n",
       "    .dataframe tbody tr th {\n",
       "        vertical-align: top;\n",
       "    }\n",
       "\n",
       "    .dataframe thead th {\n",
       "        text-align: right;\n",
       "    }\n",
       "</style>\n",
       "<table border=\"1\" class=\"dataframe\">\n",
       "  <thead>\n",
       "    <tr style=\"text-align: right;\">\n",
       "      <th></th>\n",
       "      <th>task_id</th>\n",
       "      <th>approx_token_count</th>\n",
       "      <th>mutant_catch_rate</th>\n",
       "      <th>test_suite_success_rate</th>\n",
       "    </tr>\n",
       "  </thead>\n",
       "  <tbody>\n",
       "    <tr>\n",
       "      <th>0</th>\n",
       "      <td>LongBench_HumanEval/100_0_first half</td>\n",
       "      <td>0</td>\n",
       "      <td>0.0</td>\n",
       "      <td>0.0</td>\n",
       "    </tr>\n",
       "    <tr>\n",
       "      <th>1</th>\n",
       "      <td>LongBench_HumanEval/100_0_second half</td>\n",
       "      <td>0</td>\n",
       "      <td>0.0</td>\n",
       "      <td>0.0</td>\n",
       "    </tr>\n",
       "    <tr>\n",
       "      <th>2</th>\n",
       "      <td>LongBench_HumanEval/13_0_first half</td>\n",
       "      <td>0</td>\n",
       "      <td>0.0</td>\n",
       "      <td>0.0</td>\n",
       "    </tr>\n",
       "    <tr>\n",
       "      <th>3</th>\n",
       "      <td>LongBench_HumanEval/13_0_second half</td>\n",
       "      <td>0</td>\n",
       "      <td>0.0</td>\n",
       "      <td>0.0</td>\n",
       "    </tr>\n",
       "    <tr>\n",
       "      <th>4</th>\n",
       "      <td>LongBench_HumanEval/152_0_first half</td>\n",
       "      <td>0</td>\n",
       "      <td>0.0</td>\n",
       "      <td>0.0</td>\n",
       "    </tr>\n",
       "  </tbody>\n",
       "</table>\n",
       "</div>"
      ],
      "text/plain": [
       "                                 task_id  approx_token_count   \n",
       "0   LongBench_HumanEval/100_0_first half                   0  \\\n",
       "1  LongBench_HumanEval/100_0_second half                   0   \n",
       "2    LongBench_HumanEval/13_0_first half                   0   \n",
       "3   LongBench_HumanEval/13_0_second half                   0   \n",
       "4   LongBench_HumanEval/152_0_first half                   0   \n",
       "\n",
       "   mutant_catch_rate  test_suite_success_rate  \n",
       "0                0.0                      0.0  \n",
       "1                0.0                      0.0  \n",
       "2                0.0                      0.0  \n",
       "3                0.0                      0.0  \n",
       "4                0.0                      0.0  "
      ]
     },
     "execution_count": 33,
     "metadata": {},
     "output_type": "execute_result"
    }
   ],
   "source": [
    "def mutant_catch_rate(execution):\n",
    "    if execution[\"exit_code\"] != 0:\n",
    "        return 0\n",
    "    mutants = execution[\"mutants\"]\n",
    "    caught_mutants = sum(1 for mutant in mutants if mutant[\"exit_code\"] != 0)\n",
    "    return caught_mutants / len(mutants)\n",
    "\n",
    "def mean_mutant_catch_rate(executions):\n",
    "    n = len(executions)\n",
    "    if n == 0:\n",
    "        return 0\n",
    "    return sum(mutant_catch_rate(execution) for execution in executions) / n\n",
    "\n",
    "\n",
    "def test_suite_success_rate(executions):\n",
    "    n = len(executions)\n",
    "    if n == 0:\n",
    "        return 0\n",
    "    return sum(1 for execution in executions if execution[\"exit_code\"] == 0) / n\n",
    "\n",
    "combined_df = pd.merge(benchmark_df, executions_df, on=\"task_id\")\n",
    "combined_df[\"mutant_catch_rate\"] = executions_df[\"executions\"].apply(mean_mutant_catch_rate)\n",
    "combined_df[\"test_suite_success_rate\"] = executions_df[\"executions\"].apply(test_suite_success_rate)\n",
    "combined_df = combined_df[[\"task_id\", \"approx_token_count\", \"mutant_catch_rate\", \"test_suite_success_rate\"]]\n",
    "combined_df.head()"
   ]
  },
  {
   "cell_type": "code",
   "execution_count": 34,
   "metadata": {},
   "outputs": [
    {
     "data": {
      "text/plain": [
       "<matplotlib.collections.PathCollection at 0x7f4278861420>"
      ]
     },
     "execution_count": 34,
     "metadata": {},
     "output_type": "execute_result"
    },
    {
     "data": {
      "image/png": "[encoded data removed]",
      "text/plain": [
       "<Figure size 640x480 with 1 Axes>"
      ]
     },
     "metadata": {},
     "output_type": "display_data"
    }
   ],
   "source": [
    "# Plot size on X and pass1 on Y but as a CDF\n",
    "plt.scatter(combined_df[\"approx_token_count\"], combined_df[\"mutant_catch_rate\"], marker = \"x\")"
   ]
  },
  {
   "cell_type": "code",
   "execution_count": 35,
   "metadata": {},
   "outputs": [
    {
     "data": {
      "text/plain": [
       "count    40.000000\n",
       "mean      0.145833\n",
       "std       0.303851\n",
       "min       0.000000\n",
       "25%       0.000000\n",
       "50%       0.000000\n",
       "75%       0.000000\n",
       "max       1.000000\n",
       "Name: mutant_catch_rate, dtype: float64"
      ]
     },
     "execution_count": 35,
     "metadata": {},
     "output_type": "execute_result"
    }
   ],
   "source": [
    "combined_df[\"mutant_catch_rate\"].describe()"
   ]
  },
  {
   "cell_type": "code",
   "execution_count": 36,
   "metadata": {},
   "outputs": [
    {
     "data": {
      "text/plain": [
       "count    40.000000\n",
       "mean      0.200000\n",
       "std       0.405096\n",
       "min       0.000000\n",
       "25%       0.000000\n",
       "50%       0.000000\n",
       "75%       0.000000\n",
       "max       1.000000\n",
       "Name: test_suite_success_rate, dtype: float64"
      ]
     },
     "execution_count": 36,
     "metadata": {},
     "output_type": "execute_result"
    }
   ],
   "source": [
    "combined_df[\"test_suite_success_rate\"].describe()"
   ]
  },
  {
   "cell_type": "code",
   "execution_count": 37,
   "metadata": {},
   "outputs": [
    {
     "data": {
      "text/plain": [
       "count    20.000000\n",
       "mean      0.229167\n",
       "std       0.371327\n",
       "min       0.000000\n",
       "25%       0.000000\n",
       "50%       0.000000\n",
       "75%       0.625000\n",
       "max       1.000000\n",
       "Name: mutant_catch_rate, dtype: float64"
      ]
     },
     "execution_count": 37,
     "metadata": {},
     "output_type": "execute_result"
    }
   ],
   "source": [
    "combined_df[combined_df[\"approx_token_count\"] > 0][\"mutant_catch_rate\"].describe()"
   ]
  },
  {
   "cell_type": "code",
   "execution_count": 38,
   "metadata": {},
   "outputs": [
    {
     "data": {
      "text/plain": [
       "count    20.000000\n",
       "mean      0.062500\n",
       "std       0.192371\n",
       "min       0.000000\n",
       "25%       0.000000\n",
       "50%       0.000000\n",
       "75%       0.000000\n",
       "max       0.625000\n",
       "Name: mutant_catch_rate, dtype: float64"
      ]
     },
     "execution_count": 38,
     "metadata": {},
     "output_type": "execute_result"
    }
   ],
   "source": [
    "combined_df[combined_df[\"approx_token_count\"] == 0][\"mutant_catch_rate\"].describe()"
   ]
  },
  {
   "cell_type": "code",
   "execution_count": 40,
   "metadata": {},
   "outputs": [
    {
     "data": {
      "text/html": [
       "<div>\n",
       "<style scoped>\n",
       "    .dataframe tbody tr th:only-of-type {\n",
       "        vertical-align: middle;\n",
       "    }\n",
       "\n",
       "    .dataframe tbody tr th {\n",
       "        vertical-align: top;\n",
       "    }\n",
       "\n",
       "    .dataframe thead th {\n",
       "        text-align: right;\n",
       "    }\n",
       "</style>\n",
       "<table border=\"1\" class=\"dataframe\">\n",
       "  <thead>\n",
       "    <tr style=\"text-align: right;\">\n",
       "      <th></th>\n",
       "      <th>task_id</th>\n",
       "      <th>executions</th>\n",
       "    </tr>\n",
       "  </thead>\n",
       "  <tbody>\n",
       "    <tr>\n",
       "      <th>20</th>\n",
       "      <td>LongBench_HumanEval/100_8000_first half</td>\n",
       "      <td>[{'program': '\n",
       "def make_a_pile(n):\n",
       "    \"\"\"\n",
       "   ...</td>\n",
       "    </tr>\n",
       "  </tbody>\n",
       "</table>\n",
       "</div>"
      ],
      "text/plain": [
       "                                    task_id   \n",
       "20  LongBench_HumanEval/100_8000_first half  \\\n",
       "\n",
       "                                           executions  \n",
       "20  [{'program': '\n",
       "def make_a_pile(n):\n",
       "    \"\"\"\n",
       "   ...  "
      ]
     },
     "execution_count": 40,
     "metadata": {},
     "output_type": "execute_result"
    }
   ],
   "source": [
    "executions_df[executions_df[\"task_id\"] == \"LongBench_HumanEval/100_8000_first half\"]"
   ]
  },
  {
   "cell_type": "code",
   "execution_count": 43,
   "metadata": {},
   "outputs": [],
   "source": [
    "benchmark_df = pd.read_json(\"benchmark.jsonl\", lines=True)\n",
    "benchmark_df = benchmark_df[benchmark_df[\"humaneval_task_id\"] == \"HumanEval/100\"]"
   ]
  },
  {
   "cell_type": "code",
   "execution_count": 44,
   "metadata": {},
   "outputs": [
    {
     "data": {
      "text/html": [
       "<div>\n",
       "<style scoped>\n",
       "    .dataframe tbody tr th:only-of-type {\n",
       "        vertical-align: middle;\n",
       "    }\n",
       "\n",
       "    .dataframe tbody tr th {\n",
       "        vertical-align: top;\n",
       "    }\n",
       "\n",
       "    .dataframe thead th {\n",
       "        text-align: right;\n",
       "    }\n",
       "</style>\n",
       "<table border=\"1\" class=\"dataframe\">\n",
       "  <thead>\n",
       "    <tr style=\"text-align: right;\">\n",
       "      <th></th>\n",
       "      <th>prompt</th>\n",
       "      <th>target_function</th>\n",
       "      <th>humaneval_task_id</th>\n",
       "      <th>task_id</th>\n",
       "      <th>approx_token_count</th>\n",
       "      <th>mutants</th>\n",
       "      <th>target_function_name</th>\n",
       "    </tr>\n",
       "  </thead>\n",
       "  <tbody>\n",
       "    <tr>\n",
       "      <th>0</th>\n",
       "      <td>\\ndef make_a_pile(n):\\n    \"\"\"\\n    Given a po...</td>\n",
       "      <td>\\ndef make_a_pile(n):\\n    \"\"\"\\n    Given a po...</td>\n",
       "      <td>HumanEval/100</td>\n",
       "      <td>LongBench_HumanEval/100_0_first half</td>\n",
       "      <td>0</td>\n",
       "      <td>[from typing import List\\n\\ndef make_a_pile(n:...</td>\n",
       "      <td>make_a_pile</td>\n",
       "    </tr>\n",
       "    <tr>\n",
       "      <th>1</th>\n",
       "      <td>\\ndef make_a_pile(n):\\n    \"\"\"\\n    Given a po...</td>\n",
       "      <td>\\ndef make_a_pile(n):\\n    \"\"\"\\n    Given a po...</td>\n",
       "      <td>HumanEval/100</td>\n",
       "      <td>LongBench_HumanEval/100_0_second half</td>\n",
       "      <td>0</td>\n",
       "      <td>[from typing import List\\n\\ndef make_a_pile(n:...</td>\n",
       "      <td>make_a_pile</td>\n",
       "    </tr>\n",
       "    <tr>\n",
       "      <th>20</th>\n",
       "      <td>def path_sequence(list_of_links, source, targe...</td>\n",
       "      <td>\\ndef make_a_pile(n):\\n    \"\"\"\\n    Given a po...</td>\n",
       "      <td>HumanEval/100</td>\n",
       "      <td>LongBench_HumanEval/100_8000_first half</td>\n",
       "      <td>8000</td>\n",
       "      <td>[from typing import List\\n\\ndef make_a_pile(n:...</td>\n",
       "      <td>make_a_pile</td>\n",
       "    </tr>\n",
       "    <tr>\n",
       "      <th>21</th>\n",
       "      <td>def list_to_string(lst):\\n    \"\"\"Takes a list ...</td>\n",
       "      <td>\\ndef make_a_pile(n):\\n    \"\"\"\\n    Given a po...</td>\n",
       "      <td>HumanEval/100</td>\n",
       "      <td>LongBench_HumanEval/100_8000_second half</td>\n",
       "      <td>8000</td>\n",
       "      <td>[from typing import List\\n\\ndef make_a_pile(n:...</td>\n",
       "      <td>make_a_pile</td>\n",
       "    </tr>\n",
       "    <tr>\n",
       "      <th>40</th>\n",
       "      <td>def find_anagrams_in(sentence):\\n    \"\"\"Find p...</td>\n",
       "      <td>\\ndef make_a_pile(n):\\n    \"\"\"\\n    Given a po...</td>\n",
       "      <td>HumanEval/100</td>\n",
       "      <td>LongBench_HumanEval/100_64000_first half</td>\n",
       "      <td>64000</td>\n",
       "      <td>[from typing import List\\n\\ndef make_a_pile(n:...</td>\n",
       "      <td>make_a_pile</td>\n",
       "    </tr>\n",
       "  </tbody>\n",
       "</table>\n",
       "</div>"
      ],
      "text/plain": [
       "                                               prompt   \n",
       "0   \\ndef make_a_pile(n):\\n    \"\"\"\\n    Given a po...  \\\n",
       "1   \\ndef make_a_pile(n):\\n    \"\"\"\\n    Given a po...   \n",
       "20  def path_sequence(list_of_links, source, targe...   \n",
       "21  def list_to_string(lst):\\n    \"\"\"Takes a list ...   \n",
       "40  def find_anagrams_in(sentence):\\n    \"\"\"Find p...   \n",
       "\n",
       "                                      target_function humaneval_task_id   \n",
       "0   \\ndef make_a_pile(n):\\n    \"\"\"\\n    Given a po...     HumanEval/100  \\\n",
       "1   \\ndef make_a_pile(n):\\n    \"\"\"\\n    Given a po...     HumanEval/100   \n",
       "20  \\ndef make_a_pile(n):\\n    \"\"\"\\n    Given a po...     HumanEval/100   \n",
       "21  \\ndef make_a_pile(n):\\n    \"\"\"\\n    Given a po...     HumanEval/100   \n",
       "40  \\ndef make_a_pile(n):\\n    \"\"\"\\n    Given a po...     HumanEval/100   \n",
       "\n",
       "                                     task_id  approx_token_count   \n",
       "0       LongBench_HumanEval/100_0_first half                   0  \\\n",
       "1      LongBench_HumanEval/100_0_second half                   0   \n",
       "20   LongBench_HumanEval/100_8000_first half                8000   \n",
       "21  LongBench_HumanEval/100_8000_second half                8000   \n",
       "40  LongBench_HumanEval/100_64000_first half               64000   \n",
       "\n",
       "                                              mutants target_function_name  \n",
       "0   [from typing import List\\n\\ndef make_a_pile(n:...          make_a_pile  \n",
       "1   [from typing import List\\n\\ndef make_a_pile(n:...          make_a_pile  \n",
       "20  [from typing import List\\n\\ndef make_a_pile(n:...          make_a_pile  \n",
       "21  [from typing import List\\n\\ndef make_a_pile(n:...          make_a_pile  \n",
       "40  [from typing import List\\n\\ndef make_a_pile(n:...          make_a_pile  "
      ]
     },
     "execution_count": 44,
     "metadata": {},
     "output_type": "execute_result"
    }
   ],
   "source": [
    "benchmark_df.head()"
   ]
  },
  {
   "cell_type": "code",
   "execution_count": null,
   "metadata": {},
   "outputs": [],
   "source": []
  }
 ],
 "metadata": {
  "kernelspec": {
   "display_name": "venv",
   "language": "python",
   "name": "python3"
  },
  "language_info": {
   "codemirror_mode": {
    "name": "ipython",
    "version": 3
   },
   "file_extension": ".py",
   "mimetype": "text/x-python",
   "name": "python",
   "nbconvert_exporter": "python",
   "pygments_lexer": "ipython3",
   "version": "3.10.6"
  }
 },
 "nbformat": 4,
 "nbformat_minor": 2
}
