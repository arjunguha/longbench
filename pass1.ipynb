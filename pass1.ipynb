{
 "cells": [
  {
   "cell_type": "code",
   "execution_count": 24,
   "metadata": {},
   "outputs": [],
   "source": [
    "import pandas as pd\n",
    "from pathlib import Path\n",
    "import matplotlib.pyplot as plt"
   ]
  },
  {
   "cell_type": "code",
   "execution_count": 6,
   "metadata": {},
   "outputs": [
    {
     "data": {
      "text/html": [
       "<div>\n",
       "<style scoped>\n",
       "    .dataframe tbody tr th:only-of-type {\n",
       "        vertical-align: middle;\n",
       "    }\n",
       "\n",
       "    .dataframe tbody tr th {\n",
       "        vertical-align: top;\n",
       "    }\n",
       "\n",
       "    .dataframe thead th {\n",
       "        text-align: right;\n",
       "    }\n",
       "</style>\n",
       "<table border=\"1\" class=\"dataframe\">\n",
       "  <thead>\n",
       "    <tr style=\"text-align: right;\">\n",
       "      <th></th>\n",
       "      <th>benchmark_name</th>\n",
       "      <th>size</th>\n",
       "    </tr>\n",
       "  </thead>\n",
       "  <tbody>\n",
       "    <tr>\n",
       "      <th>0</th>\n",
       "      <td>Test2Code_Long_Context_0</td>\n",
       "      <td>3638</td>\n",
       "    </tr>\n",
       "    <tr>\n",
       "      <th>1</th>\n",
       "      <td>Test2Code_Long_Context_1</td>\n",
       "      <td>3873</td>\n",
       "    </tr>\n",
       "    <tr>\n",
       "      <th>2</th>\n",
       "      <td>Test2Code_Long_Context_2</td>\n",
       "      <td>3703</td>\n",
       "    </tr>\n",
       "    <tr>\n",
       "      <th>3</th>\n",
       "      <td>Test2Code_Long_Context_3</td>\n",
       "      <td>5046</td>\n",
       "    </tr>\n",
       "    <tr>\n",
       "      <th>4</th>\n",
       "      <td>Test2Code_Long_Context_4</td>\n",
       "      <td>2968</td>\n",
       "    </tr>\n",
       "  </tbody>\n",
       "</table>\n",
       "</div>"
      ],
      "text/plain": [
       "             benchmark_name  size\n",
       "0  Test2Code_Long_Context_0  3638\n",
       "1  Test2Code_Long_Context_1  3873\n",
       "2  Test2Code_Long_Context_2  3703\n",
       "3  Test2Code_Long_Context_3  5046\n",
       "4  Test2Code_Long_Context_4  2968"
      ]
     },
     "execution_count": 6,
     "metadata": {},
     "output_type": "execute_result"
    }
   ],
   "source": [
    "benchmark_df = pd.read_json(\"test2code_long_context.jsonl\", lines=True)\n",
    "benchmark_df = benchmark_df[[\"benchmark_name\", \"size\"]]\n",
    "benchmark_df.head()"
   ]
  },
  {
   "cell_type": "code",
   "execution_count": 21,
   "metadata": {},
   "outputs": [
    {
     "data": {
      "text/html": [
       "<div>\n",
       "<style scoped>\n",
       "    .dataframe tbody tr th:only-of-type {\n",
       "        vertical-align: middle;\n",
       "    }\n",
       "\n",
       "    .dataframe tbody tr th {\n",
       "        vertical-align: top;\n",
       "    }\n",
       "\n",
       "    .dataframe thead th {\n",
       "        text-align: right;\n",
       "    }\n",
       "</style>\n",
       "<table border=\"1\" class=\"dataframe\">\n",
       "  <thead>\n",
       "    <tr style=\"text-align: right;\">\n",
       "      <th></th>\n",
       "      <th>benchmark_name</th>\n",
       "      <th>executions</th>\n",
       "    </tr>\n",
       "  </thead>\n",
       "  <tbody>\n",
       "    <tr>\n",
       "      <th>0</th>\n",
       "      <td>Test2Code_Long_Context_0</td>\n",
       "      <td>[{'program': '\n",
       "def closest_integer(value):\n",
       "   ...</td>\n",
       "    </tr>\n",
       "    <tr>\n",
       "      <th>1</th>\n",
       "      <td>Test2Code_Long_Context_1</td>\n",
       "      <td>[{'program': '\n",
       "def add_elements(arr, k):\n",
       "    f...</td>\n",
       "    </tr>\n",
       "    <tr>\n",
       "      <th>2</th>\n",
       "      <td>Test2Code_Long_Context_2</td>\n",
       "      <td>[{'program': '\n",
       "def is_nested(string):\n",
       "    \"\"\"\n",
       "...</td>\n",
       "    </tr>\n",
       "    <tr>\n",
       "      <th>3</th>\n",
       "      <td>Test2Code_Long_Context_3</td>\n",
       "      <td>[{'program': '\n",
       "def simplify(x, n):\n",
       "    \"\"\"\n",
       "   ...</td>\n",
       "    </tr>\n",
       "    <tr>\n",
       "      <th>4</th>\n",
       "      <td>Test2Code_Long_Context_4</td>\n",
       "      <td>[{'program': '\n",
       "def cycpattern_check(a , b):\n",
       "  ...</td>\n",
       "    </tr>\n",
       "  </tbody>\n",
       "</table>\n",
       "</div>"
      ],
      "text/plain": [
       "             benchmark_name                                         executions\n",
       "0  Test2Code_Long_Context_0  [{'program': '\n",
       "def closest_integer(value):\n",
       "   ...\n",
       "1  Test2Code_Long_Context_1  [{'program': '\n",
       "def add_elements(arr, k):\n",
       "    f...\n",
       "2  Test2Code_Long_Context_2  [{'program': '\n",
       "def is_nested(string):\n",
       "    \"\"\"\n",
       "...\n",
       "3  Test2Code_Long_Context_3  [{'program': '\n",
       "def simplify(x, n):\n",
       "    \"\"\"\n",
       "   ...\n",
       "4  Test2Code_Long_Context_4  [{'program': '\n",
       "def cycpattern_check(a , b):\n",
       "  ..."
      ]
     },
     "execution_count": 21,
     "metadata": {},
     "output_type": "execute_result"
    }
   ],
   "source": [
    "executions_df = pd.read_json(\"executions.jsonl\", lines=True)\n",
    "executions_df.head()"
   ]
  },
  {
   "cell_type": "code",
   "execution_count": 22,
   "metadata": {},
   "outputs": [
    {
     "data": {
      "text/html": [
       "<div>\n",
       "<style scoped>\n",
       "    .dataframe tbody tr th:only-of-type {\n",
       "        vertical-align: middle;\n",
       "    }\n",
       "\n",
       "    .dataframe tbody tr th {\n",
       "        vertical-align: top;\n",
       "    }\n",
       "\n",
       "    .dataframe thead th {\n",
       "        text-align: right;\n",
       "    }\n",
       "</style>\n",
       "<table border=\"1\" class=\"dataframe\">\n",
       "  <thead>\n",
       "    <tr style=\"text-align: right;\">\n",
       "      <th></th>\n",
       "      <th>benchmark_name</th>\n",
       "      <th>size</th>\n",
       "      <th>pass1</th>\n",
       "    </tr>\n",
       "  </thead>\n",
       "  <tbody>\n",
       "    <tr>\n",
       "      <th>0</th>\n",
       "      <td>Test2Code_Long_Context_0</td>\n",
       "      <td>3638</td>\n",
       "      <td>0.0</td>\n",
       "    </tr>\n",
       "    <tr>\n",
       "      <th>1</th>\n",
       "      <td>Test2Code_Long_Context_1</td>\n",
       "      <td>3873</td>\n",
       "      <td>0.0</td>\n",
       "    </tr>\n",
       "    <tr>\n",
       "      <th>2</th>\n",
       "      <td>Test2Code_Long_Context_2</td>\n",
       "      <td>3703</td>\n",
       "      <td>0.0</td>\n",
       "    </tr>\n",
       "    <tr>\n",
       "      <th>3</th>\n",
       "      <td>Test2Code_Long_Context_3</td>\n",
       "      <td>5046</td>\n",
       "      <td>0.0</td>\n",
       "    </tr>\n",
       "    <tr>\n",
       "      <th>4</th>\n",
       "      <td>Test2Code_Long_Context_4</td>\n",
       "      <td>2968</td>\n",
       "      <td>0.0</td>\n",
       "    </tr>\n",
       "  </tbody>\n",
       "</table>\n",
       "</div>"
      ],
      "text/plain": [
       "             benchmark_name  size  pass1\n",
       "0  Test2Code_Long_Context_0  3638    0.0\n",
       "1  Test2Code_Long_Context_1  3873    0.0\n",
       "2  Test2Code_Long_Context_2  3703    0.0\n",
       "3  Test2Code_Long_Context_3  5046    0.0\n",
       "4  Test2Code_Long_Context_4  2968    0.0"
      ]
     },
     "execution_count": 22,
     "metadata": {},
     "output_type": "execute_result"
    }
   ],
   "source": [
    "def pass1(executions):\n",
    "    n = len(executions)\n",
    "    if n == 0:\n",
    "        return 0\n",
    "    c = sum(1 for exec in executions if exec[\"exit_code\"] == 0)\n",
    "    return c / n\n",
    "\n",
    "combined_df = pd.merge(benchmark_df, executions_df, on=\"benchmark_name\")\n",
    "combined_df[\"pass1\"] = executions_df[\"executions\"].apply(pass1)\n",
    "combined_df = combined_df[[\"benchmark_name\", \"size\", \"pass1\"]]\n",
    "combined_df.head()"
   ]
  },
  {
   "cell_type": "code",
   "execution_count": 27,
   "metadata": {},
   "outputs": [
    {
     "data": {
      "text/plain": [
       "<matplotlib.collections.PathCollection at 0x7fe25dfcb970>"
      ]
     },
     "execution_count": 27,
     "metadata": {},
     "output_type": "execute_result"
    },
    {
     "data": {
      "image/png": "[encoded data removed]",
      "text/plain": [
       "<Figure size 640x480 with 1 Axes>"
      ]
     },
     "metadata": {},
     "output_type": "display_data"
    }
   ],
   "source": [
    "# Plot size on X and pass1 on Y but as a CDF\n",
    "plt.scatter(combined_df[\"size\"], combined_df[\"pass1\"], marker = \"x\")"
   ]
  },
  {
   "cell_type": "code",
   "execution_count": 29,
   "metadata": {},
   "outputs": [
    {
     "data": {
      "text/plain": [
       "count    24.000000\n",
       "mean      0.089583\n",
       "std       0.282065\n",
       "min       0.000000\n",
       "25%       0.000000\n",
       "50%       0.000000\n",
       "75%       0.000000\n",
       "max       1.000000\n",
       "Name: pass1, dtype: float64"
      ]
     },
     "execution_count": 29,
     "metadata": {},
     "output_type": "execute_result"
    }
   ],
   "source": [
    "combined_df[\"pass1\"].describe()"
   ]
  }
 ],
 "metadata": {
  "kernelspec": {
   "display_name": "venv",
   "language": "python",
   "name": "python3"
  },
  "language_info": {
   "codemirror_mode": {
    "name": "ipython",
    "version": 3
   },
   "file_extension": ".py",
   "mimetype": "text/x-python",
   "name": "python",
   "nbconvert_exporter": "python",
   "pygments_lexer": "ipython3",
   "version": "3.10.6"
  }
 },
 "nbformat": 4,
 "nbformat_minor": 2
}
